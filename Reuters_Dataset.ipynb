{
  "nbformat": 4,
  "nbformat_minor": 0,
  "metadata": {
    "colab": {
      "name": "Reuters Dataset",
      "provenance": [],
      "authorship_tag": "ABX9TyMoH5xFX2vBp1xqQ/2IeGCR",
      "include_colab_link": true
    },
    "kernelspec": {
      "name": "python3",
      "display_name": "Python 3"
    }
  },
  "cells": [
    {
      "cell_type": "markdown",
      "metadata": {
        "id": "view-in-github",
        "colab_type": "text"
      },
      "source": [
        "<a href=\"https://colab.research.google.com/github/ronee12/Computer-Vision-Deep-learning-Work-Shop/blob/master/Reuters_Dataset.ipynb\" target=\"_parent\"><img src=\"https://colab.research.google.com/assets/colab-badge.svg\" alt=\"Open In Colab\"/></a>"
      ]
    },
    {
      "cell_type": "code",
      "metadata": {
        "id": "g_Q5ehp7ltyH",
        "colab_type": "code",
        "colab": {}
      },
      "source": [
        "from keras.datasets import reuters\n",
        "(x_train_data,y_train_data),(x_test_data,y_test_data) = reuters.load_data(num_words=10000)"
      ],
      "execution_count": 0,
      "outputs": []
    },
    {
      "cell_type": "code",
      "metadata": {
        "id": "JlfChphomNUY",
        "colab_type": "code",
        "colab": {
          "base_uri": "https://localhost:8080/",
          "height": 35
        },
        "outputId": "e2e930a3-4af4-49ee-92a4-79ba562b98ef"
      },
      "source": [
        "x_train_data.shape"
      ],
      "execution_count": 30,
      "outputs": [
        {
          "output_type": "execute_result",
          "data": {
            "text/plain": [
              "(8982,)"
            ]
          },
          "metadata": {
            "tags": []
          },
          "execution_count": 30
        }
      ]
    },
    {
      "cell_type": "code",
      "metadata": {
        "id": "HX3Ic5AimRDp",
        "colab_type": "code",
        "colab": {
          "base_uri": "https://localhost:8080/",
          "height": 35
        },
        "outputId": "7c1de449-1529-4293-aaaa-bbe7c6d1d8d5"
      },
      "source": [
        "y_train_data.shape"
      ],
      "execution_count": 31,
      "outputs": [
        {
          "output_type": "execute_result",
          "data": {
            "text/plain": [
              "(8982,)"
            ]
          },
          "metadata": {
            "tags": []
          },
          "execution_count": 31
        }
      ]
    },
    {
      "cell_type": "code",
      "metadata": {
        "id": "uspx7sKTmU0h",
        "colab_type": "code",
        "colab": {}
      },
      "source": [
        "import numpy as np\n",
        "\n",
        "def vectorize(sequence,dimension=10000):\n",
        "  results = np.zeros((len(sequence),dimension), dtype='float32')\n",
        "  for i,sq in enumerate(sequence):\n",
        "    results[i,sq] = 1\n",
        "  return results"
      ],
      "execution_count": 0,
      "outputs": []
    },
    {
      "cell_type": "code",
      "metadata": {
        "id": "g-G8ozxJmaXH",
        "colab_type": "code",
        "colab": {}
      },
      "source": [
        "x_train = vectorize(x_train_data)\n",
        "x_test = vectorize(x_test_data)"
      ],
      "execution_count": 0,
      "outputs": []
    },
    {
      "cell_type": "code",
      "metadata": {
        "id": "wuIUf0cxpb41",
        "colab_type": "code",
        "colab": {}
      },
      "source": [
        "from keras.utils import to_categorical\n",
        "y_train = to_categorical(y_train_data)\n",
        "y_test = to_categorical(y_test_data) "
      ],
      "execution_count": 0,
      "outputs": []
    },
    {
      "cell_type": "code",
      "metadata": {
        "id": "H5OEuMDtpes-",
        "colab_type": "code",
        "colab": {
          "base_uri": "https://localhost:8080/",
          "height": 89
        },
        "outputId": "5b3c0a8c-e227-46d9-ee16-8ce557d5ae8f"
      },
      "source": [
        "print(\"X_train shape {}\".format(x_train.shape))\n",
        "print(\"y_train shape {}\".format(y_train.shape))\n",
        "print(\"X_test shape {}\".format(x_test.shape))\n",
        "print(\"y_test shape {}\".format(y_test.shape))"
      ],
      "execution_count": 35,
      "outputs": [
        {
          "output_type": "stream",
          "text": [
            "X_train shape (8982, 10000)\n",
            "y_train shape (8982, 46)\n",
            "X_test shape (2246, 10000)\n",
            "y_test shape (2246, 46)\n"
          ],
          "name": "stdout"
        }
      ]
    },
    {
      "cell_type": "code",
      "metadata": {
        "id": "yi4MKhqtqBRT",
        "colab_type": "code",
        "colab": {
          "base_uri": "https://localhost:8080/",
          "height": 269
        },
        "outputId": "63a11376-d9f7-4275-8d4f-432b4c108c1d"
      },
      "source": [
        "from keras.models import Sequential\n",
        "from keras.layers import Dense\n",
        "\n",
        "model = Sequential()\n",
        "model.add(Dense(64,activation='relu',input_shape=(10000,)))\n",
        "model.add(Dense(64,activation='relu'))\n",
        "model.add(Dense(46,activation='softmax'))\n",
        "model.summary()\n"
      ],
      "execution_count": 36,
      "outputs": [
        {
          "output_type": "stream",
          "text": [
            "Model: \"sequential_5\"\n",
            "_________________________________________________________________\n",
            "Layer (type)                 Output Shape              Param #   \n",
            "=================================================================\n",
            "dense_7 (Dense)              (None, 64)                640064    \n",
            "_________________________________________________________________\n",
            "dense_8 (Dense)              (None, 64)                4160      \n",
            "_________________________________________________________________\n",
            "dense_9 (Dense)              (None, 46)                2990      \n",
            "=================================================================\n",
            "Total params: 647,214\n",
            "Trainable params: 647,214\n",
            "Non-trainable params: 0\n",
            "_________________________________________________________________\n"
          ],
          "name": "stdout"
        }
      ]
    },
    {
      "cell_type": "code",
      "metadata": {
        "id": "tnwdRS2fq7Eq",
        "colab_type": "code",
        "colab": {}
      },
      "source": [
        "model.compile(optimizer='adam',loss='categorical_crossentropy',metrics=['accuracy'])"
      ],
      "execution_count": 0,
      "outputs": []
    },
    {
      "cell_type": "code",
      "metadata": {
        "id": "pj9R9xpcrjIa",
        "colab_type": "code",
        "colab": {}
      },
      "source": [
        "x_val = x_train[:1000]\n",
        "x_train = x_train[1000:]\n",
        "y_val = y_train[:1000]\n",
        "y_train = y_train[1000:]"
      ],
      "execution_count": 0,
      "outputs": []
    },
    {
      "cell_type": "code",
      "metadata": {
        "id": "k4AKUZBYr87x",
        "colab_type": "code",
        "colab": {
          "base_uri": "https://localhost:8080/",
          "height": 755
        },
        "outputId": "530b076f-829b-4788-ca6f-c364a2540d4a"
      },
      "source": [
        "history = model.fit(x_train,y_train,epochs=20,batch_size=512,validation_data=(x_val,y_val))"
      ],
      "execution_count": 39,
      "outputs": [
        {
          "output_type": "stream",
          "text": [
            "Train on 7982 samples, validate on 1000 samples\n",
            "Epoch 1/20\n",
            "7982/7982 [==============================] - 1s 101us/step - loss: 3.3031 - accuracy: 0.4226 - val_loss: 2.4821 - val_accuracy: 0.5420\n",
            "Epoch 2/20\n",
            "7982/7982 [==============================] - 1s 91us/step - loss: 1.9651 - accuracy: 0.5952 - val_loss: 1.5888 - val_accuracy: 0.6410\n",
            "Epoch 3/20\n",
            "7982/7982 [==============================] - 1s 89us/step - loss: 1.3420 - accuracy: 0.7131 - val_loss: 1.2925 - val_accuracy: 0.7110\n",
            "Epoch 4/20\n",
            "7982/7982 [==============================] - 1s 91us/step - loss: 1.0443 - accuracy: 0.7770 - val_loss: 1.1345 - val_accuracy: 0.7550\n",
            "Epoch 5/20\n",
            "7982/7982 [==============================] - 1s 93us/step - loss: 0.8336 - accuracy: 0.8225 - val_loss: 1.0456 - val_accuracy: 0.7790\n",
            "Epoch 6/20\n",
            "7982/7982 [==============================] - 1s 89us/step - loss: 0.6641 - accuracy: 0.8530 - val_loss: 0.9855 - val_accuracy: 0.7960\n",
            "Epoch 7/20\n",
            "7982/7982 [==============================] - 1s 90us/step - loss: 0.5287 - accuracy: 0.8844 - val_loss: 0.9421 - val_accuracy: 0.8020\n",
            "Epoch 8/20\n",
            "7982/7982 [==============================] - 1s 89us/step - loss: 0.4174 - accuracy: 0.9116 - val_loss: 0.9163 - val_accuracy: 0.8130\n",
            "Epoch 9/20\n",
            "7982/7982 [==============================] - 1s 91us/step - loss: 0.3313 - accuracy: 0.9307 - val_loss: 0.9014 - val_accuracy: 0.8140\n",
            "Epoch 10/20\n",
            "7982/7982 [==============================] - 1s 89us/step - loss: 0.2674 - accuracy: 0.9426 - val_loss: 0.9026 - val_accuracy: 0.8160\n",
            "Epoch 11/20\n",
            "7982/7982 [==============================] - 1s 90us/step - loss: 0.2206 - accuracy: 0.9496 - val_loss: 0.9105 - val_accuracy: 0.8140\n",
            "Epoch 12/20\n",
            "7982/7982 [==============================] - 1s 91us/step - loss: 0.1876 - accuracy: 0.9533 - val_loss: 0.9180 - val_accuracy: 0.8140\n",
            "Epoch 13/20\n",
            "7982/7982 [==============================] - 1s 91us/step - loss: 0.1636 - accuracy: 0.9541 - val_loss: 0.9252 - val_accuracy: 0.8130\n",
            "Epoch 14/20\n",
            "7982/7982 [==============================] - 1s 92us/step - loss: 0.1459 - accuracy: 0.9578 - val_loss: 0.9588 - val_accuracy: 0.8070\n",
            "Epoch 15/20\n",
            "7982/7982 [==============================] - 1s 93us/step - loss: 0.1327 - accuracy: 0.9593 - val_loss: 0.9456 - val_accuracy: 0.8080\n",
            "Epoch 16/20\n",
            "7982/7982 [==============================] - 1s 91us/step - loss: 0.1223 - accuracy: 0.9588 - val_loss: 0.9611 - val_accuracy: 0.8110\n",
            "Epoch 17/20\n",
            "7982/7982 [==============================] - 1s 90us/step - loss: 0.1174 - accuracy: 0.9570 - val_loss: 0.9737 - val_accuracy: 0.8040\n",
            "Epoch 18/20\n",
            "7982/7982 [==============================] - 1s 92us/step - loss: 0.1112 - accuracy: 0.9614 - val_loss: 0.9990 - val_accuracy: 0.8090\n",
            "Epoch 19/20\n",
            "7982/7982 [==============================] - 1s 91us/step - loss: 0.1058 - accuracy: 0.9608 - val_loss: 1.0131 - val_accuracy: 0.8090\n",
            "Epoch 20/20\n",
            "7982/7982 [==============================] - 1s 93us/step - loss: 0.1010 - accuracy: 0.9590 - val_loss: 1.0043 - val_accuracy: 0.8060\n"
          ],
          "name": "stdout"
        }
      ]
    },
    {
      "cell_type": "code",
      "metadata": {
        "id": "dwRVI3nbsGPK",
        "colab_type": "code",
        "colab": {
          "base_uri": "https://localhost:8080/",
          "height": 35
        },
        "outputId": "6d434e23-3ec9-4787-f663-f364b7e69111"
      },
      "source": [
        "history_dict = history.history\n",
        "history_dict.keys()"
      ],
      "execution_count": 40,
      "outputs": [
        {
          "output_type": "execute_result",
          "data": {
            "text/plain": [
              "dict_keys(['val_loss', 'val_accuracy', 'loss', 'accuracy'])"
            ]
          },
          "metadata": {
            "tags": []
          },
          "execution_count": 40
        }
      ]
    },
    {
      "cell_type": "code",
      "metadata": {
        "id": "oA2rFVnUsUsk",
        "colab_type": "code",
        "colab": {
          "base_uri": "https://localhost:8080/",
          "height": 295
        },
        "outputId": "60ffe8b2-6ddc-4f6a-bd29-b6d9a6602e24"
      },
      "source": [
        "import matplotlib.pyplot as plt\n",
        "loss = history_dict['loss']\n",
        "val_loss = history_dict['val_loss']\n",
        "epochs = range(1,len(loss)+1)\n",
        "plt.plot(epochs,loss,'bo',label = 'Training losss')\n",
        "plt.plot(epochs,val_loss,'b',label = 'Validation Loss')\n",
        "plt.title('Training and validation loss')\n",
        "plt.xlabel(\"epochs\")\n",
        "plt.ylabel('loss')\n",
        "plt.legend()\n",
        "plt.show()"
      ],
      "execution_count": 42,
      "outputs": [
        {
          "output_type": "display_data",
          "data": {
            "image/png": "[encoded data removed]",
            "text/plain": [
              "<Figure size 432x288 with 1 Axes>"
            ]
          },
          "metadata": {
            "tags": [],
            "needs_background": "light"
          }
        }
      ]
    },
    {
      "cell_type": "code",
      "metadata": {
        "id": "QF1hNiZrtiSu",
        "colab_type": "code",
        "colab": {
          "base_uri": "https://localhost:8080/",
          "height": 279
        },
        "outputId": "11a87393-8330-4592-9478-dd4a4cb61382"
      },
      "source": [
        "plt.clf()\n",
        "acc = history.history['accuracy']\n",
        "val_acc = history.history['val_accuracy']\n",
        "\n",
        "epochs = range(1,(len(acc)+1))\n",
        "\n",
        "plt.plot(epochs,acc,'bo',label = 'training acc')\n",
        "plt.plot(epochs,val_acc,'b',label='validation acc')\n",
        "plt.xlabel('Epochs')\n",
        "plt.ylabel('acc')\n",
        "plt.legend()\n",
        "plt.show()"
      ],
      "execution_count": 45,
      "outputs": [
        {
          "output_type": "display_data",
          "data": {
            "image/png": "[encoded data removed]",
            "text/plain": [
              "<Figure size 432x288 with 1 Axes>"
            ]
          },
          "metadata": {
            "tags": [],
            "needs_background": "light"
          }
        }
      ]
    }
  ]
}