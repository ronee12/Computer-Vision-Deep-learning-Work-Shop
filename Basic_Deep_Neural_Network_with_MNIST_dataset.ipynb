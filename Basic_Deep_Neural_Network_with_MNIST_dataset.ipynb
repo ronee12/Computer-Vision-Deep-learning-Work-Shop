{
  "nbformat": 4,
  "nbformat_minor": 0,
  "metadata": {
    "colab": {
      "name": "Basic Deep Neural Network with MNIST dataset",
      "provenance": []
    },
    "kernelspec": {
      "name": "python3",
      "display_name": "Python 3"
    },
    "accelerator": "GPU"
  },
  "cells": [
    {
      "cell_type": "markdown",
      "metadata": {
        "id": "f__8KwZ09YfN",
        "colab_type": "text"
      },
      "source": [
        "**Import all necessary libraries**"
      ]
    },
    {
      "cell_type": "code",
      "metadata": {
        "id": "uKKwzC1eV1oy",
        "colab_type": "code",
        "colab": {}
      },
      "source": [
        "import numpy as np\n",
        "import pandas as pd\n",
        "import tensorflow as tf\n",
        "import tensorflow.keras as keras"
      ],
      "execution_count": 0,
      "outputs": []
    },
    {
      "cell_type": "markdown",
      "metadata": {
        "id": "P1MeeFsT91m_",
        "colab_type": "text"
      },
      "source": [
        "MNIST dataset is 'Hello world' for Data Scientist, It contains total 70000 image with dimension 28*28. Images are divided into two (train and test) set.\n",
        "\n",
        "Train set contains 6000 images and test set contains rest 10000 images.\n",
        "![alt text](https://3qeqpr26caki16dnhd19sv6by6v-wpengine.netdna-ssl.com/wp-content/uploads/2019/02/Plot-of-a-Subset-of-Images-from-the-MNIST-Dataset-1024x768.png)\n",
        "\n",
        "Keras has its own dataset server containing this MNIST dataset. Lets import that."
      ]
    },
    {
      "cell_type": "code",
      "metadata": {
        "id": "nbU3SRmSWBN9",
        "colab_type": "code",
        "colab": {}
      },
      "source": [
        "(X_train,y_train),(X_test,y_test) = keras.datasets.mnist.load_data()"
      ],
      "execution_count": 0,
      "outputs": []
    },
    {
      "cell_type": "code",
      "metadata": {
        "id": "Mgl9TiU_WTQe",
        "colab_type": "code",
        "outputId": "7ae9cee9-7c57-4fa4-a000-6421a08bc1dc",
        "colab": {
          "base_uri": "https://localhost:8080/",
          "height": 35
        }
      },
      "source": [
        "#Input shape\n",
        "X_train.shape"
      ],
      "execution_count": 73,
      "outputs": [
        {
          "output_type": "execute_result",
          "data": {
            "text/plain": [
              "(60000, 28, 28)"
            ]
          },
          "metadata": {
            "tags": []
          },
          "execution_count": 73
        }
      ]
    },
    {
      "cell_type": "code",
      "metadata": {
        "id": "5Yr2yElHWWje",
        "colab_type": "code",
        "outputId": "e392d5cc-7b69-4de6-b7b7-6b271f51a99a",
        "colab": {
          "base_uri": "https://localhost:8080/",
          "height": 35
        }
      },
      "source": [
        "#Target value shape\n",
        "y_train.shape"
      ],
      "execution_count": 74,
      "outputs": [
        {
          "output_type": "execute_result",
          "data": {
            "text/plain": [
              "(60000,)"
            ]
          },
          "metadata": {
            "tags": []
          },
          "execution_count": 74
        }
      ]
    },
    {
      "cell_type": "markdown",
      "metadata": {
        "id": "XCnjxXdP_PMk",
        "colab_type": "text"
      },
      "source": [
        "**Let visualize some elements from the dataset**"
      ]
    },
    {
      "cell_type": "code",
      "metadata": {
        "id": "2Wb6SN7eyX5f",
        "colab_type": "code",
        "outputId": "d9affe90-bd27-4b36-9599-519195dae390",
        "colab": {
          "base_uri": "https://localhost:8080/",
          "height": 313
        }
      },
      "source": [
        "import matplotlib.pyplot as plt\n",
        "\n",
        "fig, ax = plt.subplots(2,3, figsize=(5,5))\n",
        "fig.tight_layout()\n",
        "\n",
        "index = 0\n",
        "for row in ax:\n",
        "  for col in row:\n",
        "    col.imshow(X_train[index])\n",
        "    col.set_title(y_train[index])\n",
        "    index = index + 1\n"
      ],
      "execution_count": 75,
      "outputs": [
        {
          "output_type": "display_data",
          "data": {
            "image/png": "[encoded data removed]",
            "text/plain": [
              "<Figure size 360x360 with 6 Axes>"
            ]
          },
          "metadata": {
            "tags": [],
            "needs_background": "light"
          }
        }
      ]
    },
    {
      "cell_type": "markdown",
      "metadata": {
        "id": "aWwX_hQYAobW",
        "colab_type": "text"
      },
      "source": [
        "I also need to change target values (y_train and y_test) into **categorical type**. Keras has a method *to_categorical* that transfer single value into categorical."
      ]
    },
    {
      "cell_type": "code",
      "metadata": {
        "id": "jI4wkRXvytc_",
        "colab_type": "code",
        "colab": {}
      },
      "source": [
        "from keras.utils import to_categorical\n",
        "y_train = to_categorical(y_train)\n",
        "y_test = to_categorical(y_test)"
      ],
      "execution_count": 0,
      "outputs": []
    },
    {
      "cell_type": "markdown",
      "metadata": {
        "id": "MWRo8_96BiKr",
        "colab_type": "text"
      },
      "source": [
        "Here, I reshaped 2D image into a 1D vector before training in fully connected layer. \n",
        "\n",
        "We also divided each value in X_train and X_test with 255 to keep the value between 0 and 1. This is optional but recommended because of the smaller value, computation cost will decrease."
      ]
    },
    {
      "cell_type": "code",
      "metadata": {
        "id": "4MUrckvAzJWu",
        "colab_type": "code",
        "outputId": "38e15c2a-9bac-4ebb-fc05-2919b37736b0",
        "colab": {
          "base_uri": "https://localhost:8080/",
          "height": 35
        }
      },
      "source": [
        "X_train = X_train.reshape(60000,28*28)\n",
        "X_test = X_test.reshape(10000,28*28)\n",
        "\n",
        "X_train = X_train/255\n",
        "X_test = X_test/255\n",
        "\n",
        "print(X_train.shape, X_test.shape)"
      ],
      "execution_count": 77,
      "outputs": [
        {
          "output_type": "stream",
          "text": [
            "(60000, 784) (10000, 784)\n"
          ],
          "name": "stdout"
        }
      ]
    },
    {
      "cell_type": "markdown",
      "metadata": {
        "id": "dfqEYnK2C7mG",
        "colab_type": "text"
      },
      "source": [
        "Alright, Let design our simple model. With **Keras** framework, It is very easy to design a neural net.\n"
      ]
    },
    {
      "cell_type": "code",
      "metadata": {
        "id": "A5xCByEoWZiu",
        "colab_type": "code",
        "outputId": "5f2eeddf-e75b-468b-ef6b-5fd25f2b3d54",
        "colab": {
          "base_uri": "https://localhost:8080/",
          "height": 233
        }
      },
      "source": [
        "from keras.models import Sequential\n",
        "from keras.layers import Dense\n",
        "\n",
        "model = Sequential()\n",
        "model.add(Dense(512,activation='relu',input_shape=(28*28,)))\n",
        "model.add(Dense(10,activation='softmax'))\n",
        "model.summary()"
      ],
      "execution_count": 78,
      "outputs": [
        {
          "output_type": "stream",
          "text": [
            "Model: \"sequential_8\"\n",
            "_________________________________________________________________\n",
            "Layer (type)                 Output Shape              Param #   \n",
            "=================================================================\n",
            "dense_15 (Dense)             (None, 512)               401920    \n",
            "_________________________________________________________________\n",
            "dense_16 (Dense)             (None, 10)                5130      \n",
            "=================================================================\n",
            "Total params: 407,050\n",
            "Trainable params: 407,050\n",
            "Non-trainable params: 0\n",
            "_________________________________________________________________\n"
          ],
          "name": "stdout"
        }
      ]
    },
    {
      "cell_type": "code",
      "metadata": {
        "id": "RnXcJ8DQXGoo",
        "colab_type": "code",
        "colab": {}
      },
      "source": [
        "# Configuring the model with RmsProp optimizer and Cross Entropy loss function\n",
        "model.compile(optimizer='rmsprop',loss='categorical_crossentropy',metrics=['acc'])"
      ],
      "execution_count": 0,
      "outputs": []
    },
    {
      "cell_type": "code",
      "metadata": {
        "id": "40GmBDpbXd-5",
        "colab_type": "code",
        "outputId": "fee924ef-440d-419f-ef00-58b9a0b54aa9",
        "colab": {
          "base_uri": "https://localhost:8080/",
          "height": 1000
        }
      },
      "source": [
        "# start training the model\n",
        "model.fit(X_train,y_train,epochs=30,batch_size=128,validation_split=0.1)"
      ],
      "execution_count": 80,
      "outputs": [
        {
          "output_type": "stream",
          "text": [
            "Train on 54000 samples, validate on 6000 samples\n",
            "Epoch 1/30\n",
            "54000/54000 [==============================] - 1s 24us/step - loss: 0.2689 - acc: 0.9220 - val_loss: 0.1402 - val_acc: 0.9602\n",
            "Epoch 2/30\n",
            "54000/54000 [==============================] - 1s 22us/step - loss: 0.1140 - acc: 0.9662 - val_loss: 0.0913 - val_acc: 0.9743\n",
            "Epoch 3/30\n",
            "54000/54000 [==============================] - 1s 23us/step - loss: 0.0747 - acc: 0.9776 - val_loss: 0.0795 - val_acc: 0.9767\n",
            "Epoch 4/30\n",
            "54000/54000 [==============================] - 1s 23us/step - loss: 0.0534 - acc: 0.9837 - val_loss: 0.0745 - val_acc: 0.9793\n",
            "Epoch 5/30\n",
            "54000/54000 [==============================] - 1s 23us/step - loss: 0.0397 - acc: 0.9879 - val_loss: 0.0717 - val_acc: 0.9812\n",
            "Epoch 6/30\n",
            "54000/54000 [==============================] - 1s 23us/step - loss: 0.0306 - acc: 0.9911 - val_loss: 0.0743 - val_acc: 0.9793\n",
            "Epoch 7/30\n",
            "54000/54000 [==============================] - 1s 23us/step - loss: 0.0225 - acc: 0.9936 - val_loss: 0.0688 - val_acc: 0.9805\n",
            "Epoch 8/30\n",
            "54000/54000 [==============================] - 1s 23us/step - loss: 0.0168 - acc: 0.9948 - val_loss: 0.0724 - val_acc: 0.9802\n",
            "Epoch 9/30\n",
            "54000/54000 [==============================] - 1s 23us/step - loss: 0.0134 - acc: 0.9959 - val_loss: 0.0722 - val_acc: 0.9828\n",
            "Epoch 10/30\n",
            "54000/54000 [==============================] - 1s 23us/step - loss: 0.0104 - acc: 0.9971 - val_loss: 0.0752 - val_acc: 0.9830\n",
            "Epoch 11/30\n",
            "54000/54000 [==============================] - 1s 24us/step - loss: 0.0078 - acc: 0.9979 - val_loss: 0.0743 - val_acc: 0.9830\n",
            "Epoch 12/30\n",
            "54000/54000 [==============================] - 1s 23us/step - loss: 0.0059 - acc: 0.9984 - val_loss: 0.0910 - val_acc: 0.9798\n",
            "Epoch 13/30\n",
            "54000/54000 [==============================] - 1s 23us/step - loss: 0.0042 - acc: 0.9989 - val_loss: 0.0813 - val_acc: 0.9838\n",
            "Epoch 14/30\n",
            "54000/54000 [==============================] - 1s 23us/step - loss: 0.0037 - acc: 0.9991 - val_loss: 0.0836 - val_acc: 0.9830\n",
            "Epoch 15/30\n",
            "54000/54000 [==============================] - 1s 23us/step - loss: 0.0030 - acc: 0.9991 - val_loss: 0.0925 - val_acc: 0.9830\n",
            "Epoch 16/30\n",
            "54000/54000 [==============================] - 1s 23us/step - loss: 0.0025 - acc: 0.9993 - val_loss: 0.0925 - val_acc: 0.9842\n",
            "Epoch 17/30\n",
            "54000/54000 [==============================] - 1s 23us/step - loss: 0.0017 - acc: 0.9996 - val_loss: 0.0930 - val_acc: 0.9833\n",
            "Epoch 18/30\n",
            "54000/54000 [==============================] - 1s 22us/step - loss: 0.0016 - acc: 0.9996 - val_loss: 0.1038 - val_acc: 0.9825\n",
            "Epoch 19/30\n",
            "54000/54000 [==============================] - 1s 23us/step - loss: 0.0012 - acc: 0.9997 - val_loss: 0.1005 - val_acc: 0.9842\n",
            "Epoch 20/30\n",
            "54000/54000 [==============================] - 1s 24us/step - loss: 7.6247e-04 - acc: 0.9999 - val_loss: 0.1012 - val_acc: 0.9840\n",
            "Epoch 21/30\n",
            "54000/54000 [==============================] - 1s 24us/step - loss: 7.8229e-04 - acc: 0.9998 - val_loss: 0.1101 - val_acc: 0.9842\n",
            "Epoch 22/30\n",
            "54000/54000 [==============================] - 1s 24us/step - loss: 8.8199e-04 - acc: 0.9997 - val_loss: 0.1067 - val_acc: 0.9838\n",
            "Epoch 23/30\n",
            "54000/54000 [==============================] - 1s 24us/step - loss: 5.2280e-04 - acc: 0.9998 - val_loss: 0.1187 - val_acc: 0.9835\n",
            "Epoch 24/30\n",
            "54000/54000 [==============================] - 1s 25us/step - loss: 4.3220e-04 - acc: 0.9999 - val_loss: 0.1199 - val_acc: 0.9842\n",
            "Epoch 25/30\n",
            "54000/54000 [==============================] - 1s 25us/step - loss: 2.9974e-04 - acc: 0.9999 - val_loss: 0.1095 - val_acc: 0.9852\n",
            "Epoch 26/30\n",
            "54000/54000 [==============================] - 1s 25us/step - loss: 3.4531e-04 - acc: 0.9999 - val_loss: 0.1109 - val_acc: 0.9862\n",
            "Epoch 27/30\n",
            "54000/54000 [==============================] - 1s 24us/step - loss: 2.6443e-04 - acc: 0.9999 - val_loss: 0.1164 - val_acc: 0.9858\n",
            "Epoch 28/30\n",
            "54000/54000 [==============================] - 1s 23us/step - loss: 1.3615e-04 - acc: 1.0000 - val_loss: 0.1281 - val_acc: 0.9840\n",
            "Epoch 29/30\n",
            "54000/54000 [==============================] - 1s 23us/step - loss: 2.4872e-04 - acc: 0.9999 - val_loss: 0.1335 - val_acc: 0.9847\n",
            "Epoch 30/30\n",
            "54000/54000 [==============================] - 1s 23us/step - loss: 1.9465e-04 - acc: 0.9999 - val_loss: 0.1217 - val_acc: 0.9853\n"
          ],
          "name": "stdout"
        },
        {
          "output_type": "execute_result",
          "data": {
            "text/plain": [
              "<keras.callbacks.callbacks.History at 0x7f4b542ffef0>"
            ]
          },
          "metadata": {
            "tags": []
          },
          "execution_count": 80
        }
      ]
    },
    {
      "cell_type": "code",
      "metadata": {
        "id": "8H6NMV_Wztbg",
        "colab_type": "code",
        "outputId": "8bff9b4e-d9b7-4302-ec58-c4385f357ed2",
        "colab": {
          "base_uri": "https://localhost:8080/",
          "height": 35
        }
      },
      "source": [
        "test_loss, test_acc = model.evaluate(X_test,y_test)"
      ],
      "execution_count": 81,
      "outputs": [
        {
          "output_type": "stream",
          "text": [
            "10000/10000 [==============================] - 0s 47us/step\n"
          ],
          "name": "stdout"
        }
      ]
    },
    {
      "cell_type": "code",
      "metadata": {
        "id": "EAWMBu9o9MtW",
        "colab_type": "code",
        "colab": {
          "base_uri": "https://localhost:8080/",
          "height": 35
        },
        "outputId": "baba7efb-51ac-40bb-e6b3-8432c8f8743e"
      },
      "source": [
        "print(test_acc)"
      ],
      "execution_count": 69,
      "outputs": [
        {
          "output_type": "stream",
          "text": [
            "0.9825999736785889\n"
          ],
          "name": "stdout"
        }
      ]
    },
    {
      "cell_type": "markdown",
      "metadata": {
        "id": "-WwkbJI1JiLB",
        "colab_type": "text"
      },
      "source": [
        "Results\n",
        "\n",
        "|Train Set | Validation Set | Test Set|\n",
        "|----------|----------------|---------|\n",
        "|  0.99    | 0.98           | 0.98    |\n"
      ]
    }
  ]
}