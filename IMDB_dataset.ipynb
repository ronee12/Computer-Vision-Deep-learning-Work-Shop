{
  "nbformat": 4,
  "nbformat_minor": 0,
  "metadata": {
    "colab": {
      "name": "IMDB dataset",
      "provenance": [],
      "authorship_tag": "ABX9TyOx9NtGqr4ZbqEZJ//aq4fy",
      "include_colab_link": true
    },
    "kernelspec": {
      "name": "python3",
      "display_name": "Python 3"
    },
    "accelerator": "GPU"
  },
  "cells": [
    {
      "cell_type": "markdown",
      "metadata": {
        "id": "view-in-github",
        "colab_type": "text"
      },
      "source": [
        "<a href=\"https://colab.research.google.com/github/ronee12/Computer-Vision-Deep-learning-Work-Shop/blob/master/IMDB_dataset.ipynb\" target=\"_parent\"><img src=\"https://colab.research.google.com/assets/colab-badge.svg\" alt=\"Open In Colab\"/></a>"
      ]
    },
    {
      "cell_type": "code",
      "metadata": {
        "id": "j0qKAggkQk10",
        "colab_type": "code",
        "colab": {}
      },
      "source": [
        "from keras.datasets import imdb "
      ],
      "execution_count": 0,
      "outputs": []
    },
    {
      "cell_type": "code",
      "metadata": {
        "id": "ngtXMH9_XpnV",
        "colab_type": "code",
        "colab": {}
      },
      "source": [
        "(x_train_data,y_train_data),(x_test_data,y_test_data) = imdb.load_data(num_words=10000)"
      ],
      "execution_count": 0,
      "outputs": []
    },
    {
      "cell_type": "code",
      "metadata": {
        "id": "104ouHx6X-l8",
        "colab_type": "code",
        "colab": {
          "base_uri": "https://localhost:8080/",
          "height": 35
        },
        "outputId": "0b8dcdef-1534-44a4-f94d-e2468c9d3a73"
      },
      "source": [
        "type(x_train_data)"
      ],
      "execution_count": 56,
      "outputs": [
        {
          "output_type": "execute_result",
          "data": {
            "text/plain": [
              "numpy.ndarray"
            ]
          },
          "metadata": {
            "tags": []
          },
          "execution_count": 56
        }
      ]
    },
    {
      "cell_type": "code",
      "metadata": {
        "id": "uqbRGBDNYDgb",
        "colab_type": "code",
        "colab": {
          "base_uri": "https://localhost:8080/",
          "height": 35
        },
        "outputId": "c49038a2-20e4-4b04-be97-a11ed162629d"
      },
      "source": [
        "x_train_data.shape"
      ],
      "execution_count": 57,
      "outputs": [
        {
          "output_type": "execute_result",
          "data": {
            "text/plain": [
              "(25000,)"
            ]
          },
          "metadata": {
            "tags": []
          },
          "execution_count": 57
        }
      ]
    },
    {
      "cell_type": "code",
      "metadata": {
        "id": "J3juMBgfYI9c",
        "colab_type": "code",
        "colab": {}
      },
      "source": [
        "import numpy as np\n",
        "\n",
        "def vectorize(sequences, dimensions = 10000):\n",
        "  results = np.zeros((len(sequences),dimensions))\n",
        "  for i,sq in enumerate(sequences):\n",
        "    results[i,sq] = 1\n",
        "  return results"
      ],
      "execution_count": 0,
      "outputs": []
    },
    {
      "cell_type": "code",
      "metadata": {
        "id": "sF1XFpMIYzWm",
        "colab_type": "code",
        "colab": {}
      },
      "source": [
        "X_train = vectorize(x_train_data)"
      ],
      "execution_count": 0,
      "outputs": []
    },
    {
      "cell_type": "code",
      "metadata": {
        "id": "bHb33kFUZC1X",
        "colab_type": "code",
        "colab": {
          "base_uri": "https://localhost:8080/",
          "height": 35
        },
        "outputId": "92b8a973-71fe-45a8-930f-38e4e08a69ab"
      },
      "source": [
        "X_train.shape"
      ],
      "execution_count": 60,
      "outputs": [
        {
          "output_type": "execute_result",
          "data": {
            "text/plain": [
              "(25000, 10000)"
            ]
          },
          "metadata": {
            "tags": []
          },
          "execution_count": 60
        }
      ]
    },
    {
      "cell_type": "code",
      "metadata": {
        "id": "TuHKzuLYZcsg",
        "colab_type": "code",
        "colab": {}
      },
      "source": [
        "X_test = vectorize(x_test_data)"
      ],
      "execution_count": 0,
      "outputs": []
    },
    {
      "cell_type": "code",
      "metadata": {
        "id": "A8Zfws02Zj3F",
        "colab_type": "code",
        "colab": {
          "base_uri": "https://localhost:8080/",
          "height": 35
        },
        "outputId": "1ad21845-84e2-4485-851e-fc5f6a4706a8"
      },
      "source": [
        "X_test.shape"
      ],
      "execution_count": 62,
      "outputs": [
        {
          "output_type": "execute_result",
          "data": {
            "text/plain": [
              "(25000, 10000)"
            ]
          },
          "metadata": {
            "tags": []
          },
          "execution_count": 62
        }
      ]
    },
    {
      "cell_type": "code",
      "metadata": {
        "id": "sXzwFEq_Zl4-",
        "colab_type": "code",
        "colab": {
          "base_uri": "https://localhost:8080/",
          "height": 35
        },
        "outputId": "37439e48-1308-439f-ad52-be2c5fcb4312"
      },
      "source": [
        "type(X_train)"
      ],
      "execution_count": 63,
      "outputs": [
        {
          "output_type": "execute_result",
          "data": {
            "text/plain": [
              "numpy.ndarray"
            ]
          },
          "metadata": {
            "tags": []
          },
          "execution_count": 63
        }
      ]
    },
    {
      "cell_type": "code",
      "metadata": {
        "id": "eyqtYF24ZqUI",
        "colab_type": "code",
        "colab": {}
      },
      "source": [
        "y_train = np.asarray(y_train_data).astype('float32')\n",
        "y_test = np.asarray(y_test_data,dtype='float32')"
      ],
      "execution_count": 0,
      "outputs": []
    },
    {
      "cell_type": "code",
      "metadata": {
        "id": "4gTYcFKsdl-d",
        "colab_type": "code",
        "colab": {}
      },
      "source": [
        "X_val = X_train[:10000]\n",
        "X_train = X_train[10000:]\n",
        "\n",
        "y_val = y_train[:10000]\n",
        "y_train = y_train[10000:]\n"
      ],
      "execution_count": 0,
      "outputs": []
    },
    {
      "cell_type": "code",
      "metadata": {
        "id": "Z1hVhqN9eA1O",
        "colab_type": "code",
        "colab": {
          "base_uri": "https://localhost:8080/",
          "height": 71
        },
        "outputId": "91af90a2-538a-4de0-f7a2-ca53fcfae16b"
      },
      "source": [
        "print(\"Train set shape {}\".format(X_train.shape))\n",
        "print(\"Valid set shape {}\".format(X_val.shape))\n",
        "print(\"Test set shape {}\".format(X_test.shape))"
      ],
      "execution_count": 66,
      "outputs": [
        {
          "output_type": "stream",
          "text": [
            "Train set shape (15000, 10000)\n",
            "Valid set shape (10000, 10000)\n",
            "Test set shape (25000, 10000)\n"
          ],
          "name": "stdout"
        }
      ]
    },
    {
      "cell_type": "code",
      "metadata": {
        "id": "ZLqCTL9iZySF",
        "colab_type": "code",
        "colab": {}
      },
      "source": [
        "from keras.layers import Dense\n",
        "from keras.models import Sequential"
      ],
      "execution_count": 0,
      "outputs": []
    },
    {
      "cell_type": "code",
      "metadata": {
        "id": "uQ2VMgRiabY-",
        "colab_type": "code",
        "colab": {
          "base_uri": "https://localhost:8080/",
          "height": 269
        },
        "outputId": "a7952cbc-5366-4780-d394-0070e0d12251"
      },
      "source": [
        "model = Sequential()\n",
        "model.add(Dense(16,activation='relu',input_shape=(10000,)))\n",
        "model.add(Dense(16,activation='relu'))\n",
        "model.add(Dense(1, activation='sigmoid'))\n",
        "model.summary()"
      ],
      "execution_count": 68,
      "outputs": [
        {
          "output_type": "stream",
          "text": [
            "Model: \"sequential_3\"\n",
            "_________________________________________________________________\n",
            "Layer (type)                 Output Shape              Param #   \n",
            "=================================================================\n",
            "dense_7 (Dense)              (None, 16)                160016    \n",
            "_________________________________________________________________\n",
            "dense_8 (Dense)              (None, 16)                272       \n",
            "_________________________________________________________________\n",
            "dense_9 (Dense)              (None, 1)                 17        \n",
            "=================================================================\n",
            "Total params: 160,305\n",
            "Trainable params: 160,305\n",
            "Non-trainable params: 0\n",
            "_________________________________________________________________\n"
          ],
          "name": "stdout"
        }
      ]
    },
    {
      "cell_type": "code",
      "metadata": {
        "id": "UcnhZApIOYUF",
        "colab_type": "code",
        "colab": {}
      },
      "source": [
        "model.compile(optimizer='rmsprop',loss='binary_crossentropy',metrics=['accuracy'])"
      ],
      "execution_count": 0,
      "outputs": []
    },
    {
      "cell_type": "code",
      "metadata": {
        "id": "r5pLEVBwOwy6",
        "colab_type": "code",
        "colab": {
          "base_uri": "https://localhost:8080/",
          "height": 755
        },
        "outputId": "5330e2a1-5e79-4956-c18a-6c5d9f9dad75"
      },
      "source": [
        "history = model.fit(X_train,y_train,batch_size=512,epochs=20,validation_data=(X_val,y_val))"
      ],
      "execution_count": 70,
      "outputs": [
        {
          "output_type": "stream",
          "text": [
            "Train on 15000 samples, validate on 10000 samples\n",
            "Epoch 1/20\n",
            "15000/15000 [==============================] - 2s 115us/step - loss: 0.5002 - accuracy: 0.7897 - val_loss: 0.3721 - val_accuracy: 0.8720\n",
            "Epoch 2/20\n",
            "15000/15000 [==============================] - 1s 100us/step - loss: 0.2970 - accuracy: 0.9041 - val_loss: 0.2988 - val_accuracy: 0.8905\n",
            "Epoch 3/20\n",
            "15000/15000 [==============================] - 1s 100us/step - loss: 0.2134 - accuracy: 0.9323 - val_loss: 0.2896 - val_accuracy: 0.8845\n",
            "Epoch 4/20\n",
            "15000/15000 [==============================] - 1s 100us/step - loss: 0.1691 - accuracy: 0.9455 - val_loss: 0.2770 - val_accuracy: 0.8899\n",
            "Epoch 5/20\n",
            "15000/15000 [==============================] - 1s 100us/step - loss: 0.1372 - accuracy: 0.9571 - val_loss: 0.2920 - val_accuracy: 0.8863\n",
            "Epoch 6/20\n",
            "15000/15000 [==============================] - 2s 101us/step - loss: 0.1139 - accuracy: 0.9640 - val_loss: 0.3103 - val_accuracy: 0.8828\n",
            "Epoch 7/20\n",
            "15000/15000 [==============================] - 2s 101us/step - loss: 0.0947 - accuracy: 0.9717 - val_loss: 0.3321 - val_accuracy: 0.8808\n",
            "Epoch 8/20\n",
            "15000/15000 [==============================] - 2s 100us/step - loss: 0.0750 - accuracy: 0.9795 - val_loss: 0.4265 - val_accuracy: 0.8574\n",
            "Epoch 9/20\n",
            "15000/15000 [==============================] - 1s 99us/step - loss: 0.0636 - accuracy: 0.9831 - val_loss: 0.3634 - val_accuracy: 0.8796\n",
            "Epoch 10/20\n",
            "15000/15000 [==============================] - 1s 99us/step - loss: 0.0534 - accuracy: 0.9863 - val_loss: 0.4323 - val_accuracy: 0.8684\n",
            "Epoch 11/20\n",
            "15000/15000 [==============================] - 1s 99us/step - loss: 0.0433 - accuracy: 0.9902 - val_loss: 0.4173 - val_accuracy: 0.8763\n",
            "Epoch 12/20\n",
            "15000/15000 [==============================] - 1s 97us/step - loss: 0.0341 - accuracy: 0.9927 - val_loss: 0.4452 - val_accuracy: 0.8746\n",
            "Epoch 13/20\n",
            "15000/15000 [==============================] - 1s 97us/step - loss: 0.0267 - accuracy: 0.9952 - val_loss: 0.4810 - val_accuracy: 0.8730\n",
            "Epoch 14/20\n",
            "15000/15000 [==============================] - 1s 98us/step - loss: 0.0225 - accuracy: 0.9963 - val_loss: 0.5142 - val_accuracy: 0.8716\n",
            "Epoch 15/20\n",
            "15000/15000 [==============================] - 1s 97us/step - loss: 0.0199 - accuracy: 0.9957 - val_loss: 0.5503 - val_accuracy: 0.8713\n",
            "Epoch 16/20\n",
            "15000/15000 [==============================] - 1s 98us/step - loss: 0.0104 - accuracy: 0.9994 - val_loss: 0.5854 - val_accuracy: 0.8688\n",
            "Epoch 17/20\n",
            "15000/15000 [==============================] - 1s 97us/step - loss: 0.0110 - accuracy: 0.9985 - val_loss: 0.6219 - val_accuracy: 0.8695\n",
            "Epoch 18/20\n",
            "15000/15000 [==============================] - 1s 97us/step - loss: 0.0128 - accuracy: 0.9968 - val_loss: 0.6518 - val_accuracy: 0.8669\n",
            "Epoch 19/20\n",
            "15000/15000 [==============================] - 1s 93us/step - loss: 0.0045 - accuracy: 0.9998 - val_loss: 0.6860 - val_accuracy: 0.8644\n",
            "Epoch 20/20\n",
            "15000/15000 [==============================] - 1s 93us/step - loss: 0.0077 - accuracy: 0.9989 - val_loss: 0.7199 - val_accuracy: 0.8662\n"
          ],
          "name": "stdout"
        }
      ]
    },
    {
      "cell_type": "code",
      "metadata": {
        "id": "dwJMNeWYPCYq",
        "colab_type": "code",
        "colab": {
          "base_uri": "https://localhost:8080/",
          "height": 35
        },
        "outputId": "783a3c1e-fc40-4bc6-ee7a-b735f9ede755"
      },
      "source": [
        "history_dict = history.history\n",
        "history_dict.keys()"
      ],
      "execution_count": 72,
      "outputs": [
        {
          "output_type": "execute_result",
          "data": {
            "text/plain": [
              "dict_keys(['val_loss', 'val_accuracy', 'loss', 'accuracy'])"
            ]
          },
          "metadata": {
            "tags": []
          },
          "execution_count": 72
        }
      ]
    },
    {
      "cell_type": "code",
      "metadata": {
        "id": "AK-Lj_RxczLN",
        "colab_type": "code",
        "colab": {
          "base_uri": "https://localhost:8080/",
          "height": 279
        },
        "outputId": "025877d8-8bf4-47d0-be43-2d1a55ba0f9a"
      },
      "source": [
        "import matplotlib.pyplot as plt\n",
        "\n",
        "acc = history.history['accuracy']\n",
        "val_acc = history.history['val_accuracy']\n",
        "loss = history.history['loss']\n",
        "val_loss = history.history['val_loss']\n",
        "\n",
        "epochs = range(1,len(acc)+1)\n",
        "plt.plot(epochs,loss,'bo',label='Training loss')\n",
        "plt.plot(epochs,val_loss,'b',label='validation loss')\n",
        "plt.xlabel(\"Epochs\")\n",
        "plt.ylabel('Loss')\n",
        "plt.legend()\n",
        "plt.show()\n"
      ],
      "execution_count": 74,
      "outputs": [
        {
          "output_type": "display_data",
          "data": {
            "image/png": "[encoded data removed]",
            "text/plain": [
              "<Figure size 432x288 with 1 Axes>"
            ]
          },
          "metadata": {
            "tags": [],
            "needs_background": "light"
          }
        }
      ]
    },
    {
      "cell_type": "code",
      "metadata": {
        "id": "YiRRTLn0dsAn",
        "colab_type": "code",
        "colab": {
          "base_uri": "https://localhost:8080/",
          "height": 279
        },
        "outputId": "1ea7ff9e-27dc-4f93-b530-1d4ba8477f8b"
      },
      "source": [
        "plt.clf()\n",
        "acc_values = history_dict['accuracy']\n",
        "val_acc_values = history_dict['val_accuracy']\n",
        "plt.plot(epochs,acc_values,'bo',label='Training acc')\n",
        "plt.plot(epochs,val_acc_values,'b',label='Validation acc')\n",
        "plt.xlabel(\"epochs\")\n",
        "plt.ylabel('Loss')\n",
        "plt.legend()\n",
        "plt.show()"
      ],
      "execution_count": 76,
      "outputs": [
        {
          "output_type": "display_data",
          "data": {
            "image/png": "[encoded data removed]",
            "text/plain": [
              "<Figure size 432x288 with 1 Axes>"
            ]
          },
          "metadata": {
            "tags": [],
            "needs_background": "light"
          }
        }
      ]
    },
    {
      "cell_type": "code",
      "metadata": {
        "id": "3iY-HS6xge8p",
        "colab_type": "code",
        "colab": {
          "base_uri": "https://localhost:8080/",
          "height": 179
        },
        "outputId": "323261ab-d576-4501-8897-237103f5636b"
      },
      "source": [
        "model = Sequential()\n",
        "model.add(Dense(16, activation='relu', input_shape=(10000,)))\n",
        "model.add(Dense(16, activation='relu'))\n",
        "model.add(Dense(1, activation='sigmoid'))\n",
        "\n",
        "model.compile(optimizer='rmsprop',\n",
        "              loss='binary_crossentropy',\n",
        "              metrics=['accuracy'])\n",
        "\n",
        "model.fit(X_train, y_train, epochs=4, batch_size=512)\n",
        "results = model.evaluate(X_test, y_test)"
      ],
      "execution_count": 79,
      "outputs": [
        {
          "output_type": "stream",
          "text": [
            "Epoch 1/4\n",
            "15000/15000 [==============================] - 1s 62us/step - loss: 0.5025 - accuracy: 0.7979\n",
            "Epoch 2/4\n",
            "15000/15000 [==============================] - 1s 58us/step - loss: 0.2990 - accuracy: 0.9035\n",
            "Epoch 3/4\n",
            "15000/15000 [==============================] - 1s 58us/step - loss: 0.2201 - accuracy: 0.9270\n",
            "Epoch 4/4\n",
            "15000/15000 [==============================] - 1s 58us/step - loss: 0.1706 - accuracy: 0.9449\n",
            "25000/25000 [==============================] - 2s 76us/step\n"
          ],
          "name": "stdout"
        }
      ]
    },
    {
      "cell_type": "code",
      "metadata": {
        "id": "eQC8Ad1Xg7uA",
        "colab_type": "code",
        "colab": {
          "base_uri": "https://localhost:8080/",
          "height": 35
        },
        "outputId": "71e0a67c-4913-4878-bde7-c8ad3acd3a44"
      },
      "source": [
        "results"
      ],
      "execution_count": 80,
      "outputs": [
        {
          "output_type": "execute_result",
          "data": {
            "text/plain": [
              "[0.29943205522060395, 0.8780800104141235]"
            ]
          },
          "metadata": {
            "tags": []
          },
          "execution_count": 80
        }
      ]
    },
    {
      "cell_type": "code",
      "metadata": {
        "id": "Go-qo-KnhElQ",
        "colab_type": "code",
        "colab": {
          "base_uri": "https://localhost:8080/",
          "height": 143
        },
        "outputId": "01b249a4-52e5-4e29-f845-a8b395cc5040"
      },
      "source": [
        "model.predict(X_test)"
      ],
      "execution_count": 81,
      "outputs": [
        {
          "output_type": "execute_result",
          "data": {
            "text/plain": [
              "array([[0.33149627],\n",
              "       [0.9986401 ],\n",
              "       [0.9776654 ],\n",
              "       ...,\n",
              "       [0.09716529],\n",
              "       [0.19636576],\n",
              "       [0.56433773]], dtype=float32)"
            ]
          },
          "metadata": {
            "tags": []
          },
          "execution_count": 81
        }
      ]
    },
    {
      "cell_type": "code",
      "metadata": {
        "id": "hQQEJLsShLIn",
        "colab_type": "code",
        "colab": {}
      },
      "source": [
        ""
      ],
      "execution_count": 0,
      "outputs": []
    }
  ]
}