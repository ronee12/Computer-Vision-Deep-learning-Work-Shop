{
  "nbformat": 4,
  "nbformat_minor": 0,
  "metadata": {
    "colab": {
      "name": "CNN with Cifar100 dataset",
      "provenance": [],
      "authorship_tag": "ABX9TyPca5hJTQmKwct5OLiHVVHA",
      "include_colab_link": true
    },
    "kernelspec": {
      "name": "python3",
      "display_name": "Python 3"
    },
    "accelerator": "GPU"
  },
  "cells": [
    {
      "cell_type": "markdown",
      "metadata": {
        "id": "view-in-github",
        "colab_type": "text"
      },
      "source": [
        "<a href=\"https://colab.research.google.com/github/ronee12/Computer-Vision-Deep-learning-Work-Shop/blob/master/CNN_with_Cifar100_dataset.ipynb\" target=\"_parent\"><img src=\"https://colab.research.google.com/assets/colab-badge.svg\" alt=\"Open In Colab\"/></a>"
      ]
    },
    {
      "cell_type": "code",
      "metadata": {
        "id": "bNO4Nkkf_KQg",
        "colab_type": "code",
        "colab": {}
      },
      "source": [
        "import numpy as np\n",
        "from tensorflow.keras.datasets import cifar100 "
      ],
      "execution_count": 0,
      "outputs": []
    },
    {
      "cell_type": "code",
      "metadata": {
        "id": "In_SMGgdJweI",
        "colab_type": "code",
        "colab": {
          "base_uri": "https://localhost:8080/",
          "height": 53
        },
        "outputId": "9656a1cc-8deb-4cbc-be4d-f65087895fab"
      },
      "source": [
        "(X_train,y_train),(X_test, y_test) = cifar100.load_data()"
      ],
      "execution_count": 2,
      "outputs": [
        {
          "output_type": "stream",
          "text": [
            "Downloading data from https://www.cs.toronto.edu/~kriz/cifar-100-python.tar.gz\n",
            "169009152/169001437 [==============================] - 11s 0us/step\n"
          ],
          "name": "stdout"
        }
      ]
    },
    {
      "cell_type": "code",
      "metadata": {
        "id": "uTZqfe_7KGF0",
        "colab_type": "code",
        "colab": {
          "base_uri": "https://localhost:8080/",
          "height": 35
        },
        "outputId": "d16c0693-b236-48bf-856c-b2b09a18a119"
      },
      "source": [
        "print(X_train.shape, y_train.shape)"
      ],
      "execution_count": 3,
      "outputs": [
        {
          "output_type": "stream",
          "text": [
            "(50000, 32, 32, 3) (50000, 1)\n"
          ],
          "name": "stdout"
        }
      ]
    },
    {
      "cell_type": "code",
      "metadata": {
        "id": "0Dz5MAVyKR5A",
        "colab_type": "code",
        "colab": {
          "base_uri": "https://localhost:8080/",
          "height": 35
        },
        "outputId": "a549c95b-5209-41fb-ca9a-57896e7d745e"
      },
      "source": [
        "print(X_test.shape,y_test.shape)"
      ],
      "execution_count": 4,
      "outputs": [
        {
          "output_type": "stream",
          "text": [
            "(10000, 32, 32, 3) (10000, 1)\n"
          ],
          "name": "stdout"
        }
      ]
    },
    {
      "cell_type": "code",
      "metadata": {
        "id": "C0DCrtQZKZg8",
        "colab_type": "code",
        "colab": {}
      },
      "source": [
        "from tensorflow.keras.utils import to_categorical\n",
        "\n",
        "X_train = X_train.astype('float32')/255\n",
        "X_test = X_test.astype('float32')/255\n",
        "\n",
        "y_train = to_categorical(y_train)\n",
        "y_test = to_categorical(y_test)"
      ],
      "execution_count": 0,
      "outputs": []
    },
    {
      "cell_type": "code",
      "metadata": {
        "id": "2-6pxL5JK7z4",
        "colab_type": "code",
        "colab": {
          "base_uri": "https://localhost:8080/",
          "height": 35
        },
        "outputId": "d7177737-a64b-4bbd-aac8-9a4893f5b07c"
      },
      "source": [
        "print(y_train.shape, y_test.shape)"
      ],
      "execution_count": 6,
      "outputs": [
        {
          "output_type": "stream",
          "text": [
            "(50000, 100) (10000, 100)\n"
          ],
          "name": "stdout"
        }
      ]
    },
    {
      "cell_type": "code",
      "metadata": {
        "id": "ycizqVSSLCXn",
        "colab_type": "code",
        "colab": {
          "base_uri": "https://localhost:8080/",
          "height": 377
        },
        "outputId": "be910b88-aa89-4f1f-9003-bb7475b59931"
      },
      "source": [
        "from tensorflow.keras.models import Sequential\n",
        "from tensorflow.keras.layers import Conv2D, MaxPool2D, Dense, Flatten\n",
        "\n",
        "model = Sequential()\n",
        "model.add(Conv2D(32,(3,3),activation = 'relu', padding = 'same', input_shape = (32,32,3)))\n",
        "model.add(MaxPool2D(2,2))\n",
        "model.add(Conv2D(64,(3,3),activation='relu', padding = 'same'))\n",
        "model.add(MaxPool2D(2,2))\n",
        "model.add(Flatten())\n",
        "model.add(Dense(100,activation='softmax'))\n",
        "model.summary()"
      ],
      "execution_count": 10,
      "outputs": [
        {
          "output_type": "stream",
          "text": [
            "Model: \"sequential_3\"\n",
            "_________________________________________________________________\n",
            "Layer (type)                 Output Shape              Param #   \n",
            "=================================================================\n",
            "conv2d_5 (Conv2D)            (None, 32, 32, 32)        896       \n",
            "_________________________________________________________________\n",
            "max_pooling2d_3 (MaxPooling2 (None, 16, 16, 32)        0         \n",
            "_________________________________________________________________\n",
            "conv2d_6 (Conv2D)            (None, 16, 16, 64)        18496     \n",
            "_________________________________________________________________\n",
            "max_pooling2d_4 (MaxPooling2 (None, 8, 8, 64)          0         \n",
            "_________________________________________________________________\n",
            "flatten_1 (Flatten)          (None, 4096)              0         \n",
            "_________________________________________________________________\n",
            "dense (Dense)                (None, 100)               409700    \n",
            "=================================================================\n",
            "Total params: 429,092\n",
            "Trainable params: 429,092\n",
            "Non-trainable params: 0\n",
            "_________________________________________________________________\n"
          ],
          "name": "stdout"
        }
      ]
    },
    {
      "cell_type": "code",
      "metadata": {
        "id": "WbQ2Z7NJLkEj",
        "colab_type": "code",
        "colab": {}
      },
      "source": [
        "model.compile(optimizer='adam',loss='categorical_crossentropy',metrics=['accuracy'])"
      ],
      "execution_count": 0,
      "outputs": []
    },
    {
      "cell_type": "code",
      "metadata": {
        "id": "ca4UUB6zM3v4",
        "colab_type": "code",
        "colab": {
          "base_uri": "https://localhost:8080/",
          "height": 775
        },
        "outputId": "f0015dd4-b4f4-4531-f2d0-851e737da216"
      },
      "source": [
        "model.fit(X_train,y_train,epochs=20,batch_size=64,validation_split=0.1)"
      ],
      "execution_count": 12,
      "outputs": [
        {
          "output_type": "stream",
          "text": [
            "Epoch 1/20\n",
            "704/704 [==============================] - 6s 9ms/step - loss: 3.5200 - accuracy: 0.1880 - mae: 0.0183 - val_loss: 3.1190 - val_accuracy: 0.2560 - val_mae: 0.0173\n",
            "Epoch 2/20\n",
            "704/704 [==============================] - 6s 8ms/step - loss: 2.7745 - accuracy: 0.3271 - mae: 0.0164 - val_loss: 2.8499 - val_accuracy: 0.3142 - val_mae: 0.0162\n",
            "Epoch 3/20\n",
            "704/704 [==============================] - 6s 9ms/step - loss: 2.4129 - accuracy: 0.4017 - mae: 0.0151 - val_loss: 2.7460 - val_accuracy: 0.3444 - val_mae: 0.0157\n",
            "Epoch 4/20\n",
            "704/704 [==============================] - 6s 8ms/step - loss: 2.1179 - accuracy: 0.4637 - mae: 0.0139 - val_loss: 2.6520 - val_accuracy: 0.3584 - val_mae: 0.0149\n",
            "Epoch 5/20\n",
            "704/704 [==============================] - 6s 8ms/step - loss: 1.8582 - accuracy: 0.5217 - mae: 0.0128 - val_loss: 2.6592 - val_accuracy: 0.3680 - val_mae: 0.0146\n",
            "Epoch 6/20\n",
            "704/704 [==============================] - 6s 8ms/step - loss: 1.6392 - accuracy: 0.5704 - mae: 0.0118 - val_loss: 2.8148 - val_accuracy: 0.3644 - val_mae: 0.0144\n",
            "Epoch 7/20\n",
            "704/704 [==============================] - 6s 8ms/step - loss: 1.4355 - accuracy: 0.6181 - mae: 0.0107 - val_loss: 2.8290 - val_accuracy: 0.3704 - val_mae: 0.0142\n",
            "Epoch 8/20\n",
            "704/704 [==============================] - 6s 8ms/step - loss: 1.2350 - accuracy: 0.6686 - mae: 0.0096 - val_loss: 3.0045 - val_accuracy: 0.3700 - val_mae: 0.0140\n",
            "Epoch 9/20\n",
            "704/704 [==============================] - 6s 8ms/step - loss: 1.0617 - accuracy: 0.7103 - mae: 0.0086 - val_loss: 3.2596 - val_accuracy: 0.3610 - val_mae: 0.0138\n",
            "Epoch 10/20\n",
            "704/704 [==============================] - 6s 8ms/step - loss: 0.9049 - accuracy: 0.7494 - mae: 0.0076 - val_loss: 3.3397 - val_accuracy: 0.3622 - val_mae: 0.0137\n",
            "Epoch 11/20\n",
            "704/704 [==============================] - 6s 8ms/step - loss: 0.7709 - accuracy: 0.7871 - mae: 0.0068 - val_loss: 3.5977 - val_accuracy: 0.3566 - val_mae: 0.0136\n",
            "Epoch 12/20\n",
            "704/704 [==============================] - 6s 8ms/step - loss: 0.6518 - accuracy: 0.8174 - mae: 0.0059 - val_loss: 3.9449 - val_accuracy: 0.3526 - val_mae: 0.0137\n",
            "Epoch 13/20\n",
            "704/704 [==============================] - 6s 8ms/step - loss: 0.5414 - accuracy: 0.8470 - mae: 0.0052 - val_loss: 4.1382 - val_accuracy: 0.3478 - val_mae: 0.0136\n",
            "Epoch 14/20\n",
            "704/704 [==============================] - 6s 8ms/step - loss: 0.4668 - accuracy: 0.8660 - mae: 0.0046 - val_loss: 4.5484 - val_accuracy: 0.3438 - val_mae: 0.0136\n",
            "Epoch 15/20\n",
            "704/704 [==============================] - 6s 8ms/step - loss: 0.3872 - accuracy: 0.8888 - mae: 0.0040 - val_loss: 4.9158 - val_accuracy: 0.3354 - val_mae: 0.0137\n",
            "Epoch 16/20\n",
            "704/704 [==============================] - 6s 8ms/step - loss: 0.3300 - accuracy: 0.9053 - mae: 0.0035 - val_loss: 5.1996 - val_accuracy: 0.3370 - val_mae: 0.0136\n",
            "Epoch 17/20\n",
            "704/704 [==============================] - 6s 8ms/step - loss: 0.2879 - accuracy: 0.9165 - mae: 0.0031 - val_loss: 5.3100 - val_accuracy: 0.3404 - val_mae: 0.0135\n",
            "Epoch 18/20\n",
            "704/704 [==============================] - 6s 8ms/step - loss: 0.2421 - accuracy: 0.9293 - mae: 0.0027 - val_loss: 5.6726 - val_accuracy: 0.3372 - val_mae: 0.0136\n",
            "Epoch 19/20\n",
            "704/704 [==============================] - 6s 8ms/step - loss: 0.2234 - accuracy: 0.9353 - mae: 0.0025 - val_loss: 5.9794 - val_accuracy: 0.3310 - val_mae: 0.0136\n",
            "Epoch 20/20\n",
            "704/704 [==============================] - 6s 8ms/step - loss: 0.1930 - accuracy: 0.9441 - mae: 0.0022 - val_loss: 6.2838 - val_accuracy: 0.3342 - val_mae: 0.0136\n"
          ],
          "name": "stdout"
        },
        {
          "output_type": "execute_result",
          "data": {
            "text/plain": [
              "<tensorflow.python.keras.callbacks.History at 0x7fc373e418d0>"
            ]
          },
          "metadata": {
            "tags": []
          },
          "execution_count": 12
        }
      ]
    },
    {
      "cell_type": "code",
      "metadata": {
        "id": "hJJbY0JkM_rY",
        "colab_type": "code",
        "colab": {}
      },
      "source": [
        ""
      ],
      "execution_count": 0,
      "outputs": []
    }
  ]
}